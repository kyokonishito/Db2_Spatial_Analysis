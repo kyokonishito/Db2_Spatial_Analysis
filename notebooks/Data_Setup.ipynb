{
 "cells": [
  {
   "cell_type": "markdown",
   "metadata": {},
   "source": [
    "↑プロジェクトトークンを挿入したら、実行を忘れずに!\n",
    "\n",
    "# Db2でシェアサイクルポートの地理情報分析をやってみよう!\n",
    "## データセットアップ\n",
    "\n",
    "\n",
    "**実行は　セルを選択して**\n",
    "\n",
    "- **Windows： Ctrl+Enter**\n",
    "- **Mac: ⌘ (command) + Enter 　または Ctrl + Enter**\n",
    "\n",
    "\n",
    "### 前提\n",
    " - [地理空間分析機能を有効にしている](https://qiita.com/nishikyon/items/4cd0430e4ebb7d541a82)\n",
    " - [JGD2011座標系の設定済み](https://qiita.com/nishikyon/items/fc97391f02b4e9e4bb9c)\n",
    " \n",
    "   Watson Studio上のnotebookからIBM Cloud Object Storage(ICOS)へのFileの読み書き - project-libを使う -の手順が前準備として必要です。<br>\n",
    "   <br>\n",
    "    まずは1,2を実施お願いします。<br>\n",
    "    \n",
    "    - 1.[ Projectを開く](https://qiita.com/nishikyon/items/1bed62a2a98b0c970f40#1-project%E3%82%92%E9%96%8B%E3%81%8F)\n",
    "    - 2.[ 前準備アクセス・トークンの作成](https://qiita.com/nishikyon/items/1bed62a2a98b0c970f40#2-%E5%89%8D%E6%BA%96%E5%82%99%E3%82%A2%E3%82%AF%E3%82%BB%E3%82%B9%E3%83%88%E3%83%BC%E3%82%AF%E3%83%B3%E3%81%AE%E4%BD%9C%E6%88%90)\n",
    "    <br>\n",
    "    その後、このnotebookに\n",
    "    <br>\n",
    "    - [5: プロジェクト・トークンの挿入](https://qiita.com/nishikyon/items/1bed62a2a98b0c970f40#5-%E3%83%97%E3%83%AD%E3%82%B8%E3%82%A7%E3%82%AF%E3%83%88%E3%83%88%E3%83%BC%E3%82%AF%E3%83%B3%E3%81%AE%E6%8C%BF%E5%85%A5)を実施してください。\n",
    "    <br>\n",
    "    一番上に挿入されたセルの実行は忘れずにお願いします。\n",
    " \n",
    " 2022/09/28のDataBase Dojoの環境で使用している場合は上記は既に設定済みです。\n",
    "\n",
    "\n",
    "### 確認済み動作環境\n",
    "- Watson Studio SaaS版\n",
    "\n",
    "### ローカルで動作させる場合：\n",
    "- OSコマンドが基本bashベースなので、Mac＆Linux向けです。Windowsで動作させるにはその部分の変更が必要です。\n",
    "- ObjrectStorage上のファイル出力部分は要変更になります。\n",
    "\n",
    "\n",
    "\n"
   ]
  },
  {
   "cell_type": "markdown",
   "metadata": {},
   "source": [
    "## 1. 前準備\n",
    "### 1.1 Db2接続情報のセット\n",
    "\n",
    "XXXXと9999は自分の接続先のDb2の情報を入れてください"
   ]
  },
  {
   "cell_type": "code",
   "execution_count": null,
   "metadata": {},
   "outputs": [],
   "source": [
    "user = \"xxxx\" # db2ユーザーid\n",
    "password = \"xxxx\" #db2パスワードを入れる\n",
    "databese = \"xxxx\" # db2 Db名\n",
    "host =  \"xxxx\" # db2 ホスト名\n",
    "port =  9999 #Db2ポート番号\n"
   ]
  },
  {
   "cell_type": "markdown",
   "metadata": {},
   "source": [
    "### 1.2 Db2 Jupyter Notebook Extensions のロード\n",
    "https://github.com/IBM/db2-jupyter\n",
    "\n",
    "notebookでdb2 SQLを使いやすくる`Db2 Jupyter Notebook Extensions`をダウンロード&ロードします。<br>\n",
    "(使い方の参考: https://speakerdeck.com/kyokonishito/db2-and-jupyter-notebooks)"
   ]
  },
  {
   "cell_type": "code",
   "execution_count": null,
   "metadata": {},
   "outputs": [],
   "source": [
    "import os\n",
    "path = \"./db2.ipynb\"\n",
    "if not os.path.exists(path):\n",
    "    !wget https://raw.githubusercontent.com/IBM/db2-jupyter/master/db2.ipynb\n",
    "else:\n",
    "    print(\"db2.ipynb is existing.\")\n",
    "srs_id = None"
   ]
  },
  {
   "cell_type": "code",
   "execution_count": null,
   "metadata": {},
   "outputs": [],
   "source": [
    "%run db2.ipynb"
   ]
  },
  {
   "cell_type": "markdown",
   "metadata": {},
   "source": [
    "### 1.3 Db2に接続します\n",
    "`Db2 Jupyter Notebook Extensions`を使用してDb2に接続"
   ]
  },
  {
   "cell_type": "code",
   "execution_count": null,
   "metadata": {},
   "outputs": [],
   "source": [
    "%sql CONNECT TO {databese} USER {user} USING {password} HOST {host} port {port} SSL TRUE"
   ]
  },
  {
   "cell_type": "markdown",
   "metadata": {},
   "source": [
    "## 2. 国土交通省国土数値情報ダウンロードサービスの東京都の行政区域データのSHAPEファイルを入手/加工\n",
    "国土交通省が行政区域などのSHAPEファイルを作成して公開しています。\n",
    "\n",
    "これを利用すると、例えば中央区の境界SHAPEデータ(Polygonデータ）などを入手することができます。\n",
    "\n",
    "ここでは[国土交通省国土数値情報ダウンロードサービス](https://nlftp.mlit.go.jp/ksj/index.html)の東京都の行政区域データをダウンロードします。\n",
    "\n",
    "正式に以下のようにはWeb GUIでダウンロードします。\n",
    "「2.政策地域」の中の「行政区域（ポリゴン） 」\n",
    "の「東京都」、「令和3年」のデータをダウンロードします。\n",
    "\n",
    "(令和4年はうまくできなかったので、令和3年をダウンロードします)\n",
    "\n",
    "ですが、notebookに直で使えるように、ここではwgetでダウンロード先から直接ダウンロードします。\n",
    "\n",
    "また、このデータの文字コードはSJISです。Db2の文字コードがUTF-8の場合(Db2 Warehouse on Cloudの文字コードはUTF-8)、あとでツールを使ってDb2にSHAPEファイルをインポートする際に文字コードの指定ができないため、UTF-8に変換しないと文字化けします。\n",
    "\n",
    "ここではgeopandasを使用してUTF-8に変換します。\n",
    "\n",
    "- - -\n",
    "注：2022/09/28のDataBase Dojoの環境で使用している場合<br>\n",
    "ここで作成したファイルは「3. SHAPEファイルのインポート」で使用するのですが、SHAPEファイルのインポートはnotebookではできないためインポートは実施ぜず、あらかじめ作成済みのテーブルを使用します。よって2022/09/28のDataBase Dojoの環境で使用している場合はここをSKIPしても問題ありません。"
   ]
  },
  {
   "cell_type": "markdown",
   "metadata": {},
   "source": [
    "### 2.1 東京都の行政区域データのSHAPEファイルのダウンロード"
   ]
  },
  {
   "cell_type": "code",
   "execution_count": null,
   "metadata": {},
   "outputs": [],
   "source": [
    "#[国土交通省国土数値情報ダウンロードサービス](https://nlftp.mlit.go.jp/ksj/index.html)\n",
    "#東京都の行政区域データ\n",
    "#東京 世界測地系 令和3年 14.27MB N03-20210101_13_GML.zip\n",
    "!wget https://nlftp.mlit.go.jp/ksj/gml/data/N03/N03-2021/N03-20210101_13_GML.zip"
   ]
  },
  {
   "cell_type": "markdown",
   "metadata": {},
   "source": [
    "### 2.2 ダウンロードしたファイルの確認\n",
    "`N03-20210101_13_GML.zip`があることを確認"
   ]
  },
  {
   "cell_type": "code",
   "execution_count": null,
   "metadata": {},
   "outputs": [],
   "source": [
    "!ls *.zip"
   ]
  },
  {
   "cell_type": "markdown",
   "metadata": {},
   "source": [
    "### 2.3 ダウンロードしたファイルを解凍"
   ]
  },
  {
   "cell_type": "code",
   "execution_count": null,
   "metadata": {},
   "outputs": [],
   "source": [
    "!unzip -o N03-20210101_13_GML.zip"
   ]
  },
  {
   "cell_type": "markdown",
   "metadata": {},
   "source": [
    "### 2.4 必要なパッケージを導入\n",
    "\n",
    "[geopandas](https://geopandas.org/en/stable/)ライブラリは東京都の行政区域データのSJISデータをUTF-8に変換するのに使用します。"
   ]
  },
  {
   "cell_type": "code",
   "execution_count": null,
   "metadata": {},
   "outputs": [],
   "source": [
    "!pip install geopandas"
   ]
  },
  {
   "cell_type": "markdown",
   "metadata": {},
   "source": [
    "### 2.5 geopandasのGeoDataFrameにSHAPEファイルを読み込む"
   ]
  },
  {
   "cell_type": "code",
   "execution_count": null,
   "metadata": {
    "scrolled": true
   },
   "outputs": [],
   "source": [
    "import pandas as pd\n",
    "import geopandas as gpd\n",
    "\n",
    "file_path = r\"./N03-20210101_13_GML/N03-21_13_210101.shp\" #ダウンロードして解凍したSHAPEファイル\n",
    "geo_df =gpd.read_file(file_path, encoding='shift-jis') # encodingはshift-jis\n",
    "geo_df.head() #最初の5行の表示"
   ]
  },
  {
   "cell_type": "markdown",
   "metadata": {},
   "source": [
    "### 2.6 読み込んだデータの座標参照系（CRS:Coordinate Reference System）を確認します。"
   ]
  },
  {
   "cell_type": "code",
   "execution_count": null,
   "metadata": {},
   "outputs": [],
   "source": [
    "geo_df.crs"
   ]
  },
  {
   "cell_type": "markdown",
   "metadata": {},
   "source": [
    "↑EPSG:6668のJGD2011であることがわかります。\n",
    "\n",
    "[座標参照系とは?(ググります)](https://www.google.com/search?q=%E5%BA%A7%E6%A8%99%E5%8F%82%E7%85%A7%E7%B3%BB)\n",
    "\n",
    "Db2 Spatial Anlaysisには事前によく使いそうな空間参照系の定義が<br>\n",
    "ビュー`SYSGEO.ST_SPATIAL_REFERENCE_SYSTEMS`<br>\n",
    "にあり、ここにあるもののみが、空間参照系として指定できます。\n",
    "\n",
    "ここにない場合は、<br>\n",
    "ビュー`SYSGEO.ST_COORDINATE_SYSTEMS`<br>\n",
    "に5000 を超える座標系が用意されており、そのいずれかに基づいて新しい空間参照系を作成可能です。\n",
    "\n",
    "残念ながらJGD2011の空間参照系は初期状態では`SYSGEO.ST_SPATIAL_REFERENCE_SYSTEMS`に定義されていません。<br>\n",
    "よって、前準備として、「[JGD2011の空間参照系を設定](https://qiita.com/nishikyon/items/fc97391f02b4e9e4bb9c)」としています。<br>\n",
    "またはSHAPEファイルの座標系を現在SYSGEO.ST_SPATIAL_REFERENCE_SYSTEMSに定義されている座標系に変換してもOKです(ここではやりません)。\n",
    "\n",
    "以下でJGD2011の空間参照系の設定を確認します。\n",
    "SRS_IDを変数srs_idに入れています。"
   ]
  },
  {
   "cell_type": "code",
   "execution_count": null,
   "metadata": {},
   "outputs": [],
   "source": [
    "crs_df = %sql SELECT * FROM SYSGEO.ST_SPATIAL_REFERENCE_SYSTEMS WHERE ORGANIZATION='EPSG' AND ORGANIZATION_COORDSYS_ID = 6668;\n",
    "#srs_idを取得\n",
    "srs_id = crs_df['SRS_ID'][0]\n",
    "print(\"srs_id is \" +str(srs_id))\n",
    "crs_df"
   ]
  },
  {
   "cell_type": "markdown",
   "metadata": {},
   "source": [
    "### 2.6 読み込んだデータをUTF-8の文字コードで保存\n",
    "\n",
    "`tokyo.shp` という名前で保存します。"
   ]
  },
  {
   "cell_type": "code",
   "execution_count": null,
   "metadata": {},
   "outputs": [],
   "source": [
    "!rm -f tokyo.*\n",
    "out=\"./tokyo.shp\"\n",
    "geo_df.to_file(out, encoding='utf-8')"
   ]
  },
  {
   "cell_type": "markdown",
   "metadata": {},
   "source": [
    "### 2.7 確認\n",
    "以下の5つのファイルが作成されていることを確認します：<br>\n",
    "\n",
    "`tokyo.cpg`  `tokyo.dbf` `tokyo.prj` `tokyo.shp` `tokyo.shx`"
   ]
  },
  {
   "cell_type": "code",
   "execution_count": null,
   "metadata": {},
   "outputs": [],
   "source": [
    "!ls tokyo*"
   ]
  },
  {
   "cell_type": "markdown",
   "metadata": {},
   "source": [
    "### 2.8 まとめて1つのzipファイル作成\n",
    "\n",
    "以下の5つのファイルをまとめて1つのzipファイル作成します：<br>\n",
    "\n",
    "`tokyo.cpg`  `tokyo.dbf` `tokyo.prj` `tokyo.shp` `tokyo.shx`"
   ]
  },
  {
   "cell_type": "code",
   "execution_count": null,
   "metadata": {},
   "outputs": [],
   "source": [
    "!zip -r tokyo.zip tokyo.*"
   ]
  },
  {
   "cell_type": "markdown",
   "metadata": {},
   "source": [
    "### 2.9 プロジェクト資産に保存\n",
    "ダウンロードできるようにプロジェクト資産に保存します。"
   ]
  },
  {
   "cell_type": "code",
   "execution_count": null,
   "metadata": {},
   "outputs": [],
   "source": [
    "with open('tokyo.zip','rb') as f:\n",
    "    project.save_data('tokyo.zip', f, overwrite=True)"
   ]
  },
  {
   "cell_type": "markdown",
   "metadata": {},
   "source": [
    "## 3. SHAPEファイルのインポート\n",
    "SHAPEファイルのインポートはこのnotebookではできません。\n",
    "プロジェクト資産から`tokyo.zip`をダウンロードし、<br>\n",
    "Qiita　[Db2地理空間分析: SHAPEファイルのインポート](https://qiita.com/nishikyon/items/fd6d166fdbf6523930d4)を参照してインポートしてください。\n",
    "\n",
    "このnotebookと次に使用するnotebookではCITY_SHAPEテーブルにインポートしたとして進めます。"
   ]
  },
  {
   "cell_type": "markdown",
   "metadata": {},
   "source": [
    "2022/09/28のDataBase Dojoの環境で使用している場合は上記はCITY_SHAPEビューを作成済みです。\n",
    "このまま進めてください。"
   ]
  },
  {
   "cell_type": "markdown",
   "metadata": {},
   "source": [
    "### 3.1 インポート後の確認\n",
    "SHAPEデータがロードされた`CITY_SHAPE`の中身を見てみます"
   ]
  },
  {
   "cell_type": "code",
   "execution_count": null,
   "metadata": {},
   "outputs": [],
   "source": [
    "# テーブルの構成確認\n",
    "%sql DESCRIBE TABLE CITY_SHAPE"
   ]
  },
  {
   "cell_type": "code",
   "execution_count": null,
   "metadata": {},
   "outputs": [],
   "source": [
    "#中身をちょっと確認\n",
    "%sql SELECT N03_001, N03_002, N03_004, N03_007, OBJECTID, CAST( ST_AsText(GEO) AS VARCHAR(50) ) AS GEO from CITY_SHAPE FETCH FIRST 10 ROWS ONLY"
   ]
  },
  {
   "cell_type": "markdown",
   "metadata": {},
   "source": [
    "# 4. IBM事業所情報のインポート\n",
    "次の「地理空間分析」で使うので、こちらもテーブルを作成して、情報を入れておきます。\n",
    "\n",
    "テーブル`IBM_LOC`に経度・緯度情報とともにIBM事業所情報が入ります。\n",
    "\n",
    "ST_Point(<緯度>, <経度>, <空間参照系 ID >)で`ST_Point`データタイプに変換して、INSERTしています。\n",
    "\n",
    "今回は、最初の方に確認しているJGD2011の空間参照系を使うので、変数に入れたsrs_idを使います。"
   ]
  },
  {
   "cell_type": "code",
   "execution_count": null,
   "metadata": {},
   "outputs": [],
   "source": [
    "%%sql\n",
    "DROP TABLE \"IBM_LOC\";\n",
    "CREATE TABLE \"IBM_LOC\"  (\n",
    "    \"CODE\" CHAR(30 OCTETS) NOT NULL, \n",
    "    \"BRANCH_NAME\" VARCHAR(60 OCTETS) NOT NULL, \n",
    "    \"ADDRESS\" VARCHAR(120 OCTETS) , \n",
    "    \"GEO_POINT\" ST_Point,\n",
    "    PRIMARY KEY (CODE))  \n",
    "IN \"USERSPACE1\" "
   ]
  },
  {
   "cell_type": "code",
   "execution_count": null,
   "metadata": {},
   "outputs": [],
   "source": [
    "import pandas as pd\n",
    "\n",
    "ibm_loc_list = [[\"HQ\",\"本社\",\"東京都中央区日本橋箱崎町19-21\",139.7869482,35.67833],\n",
    "[\"GT\",\"五反田\",\"東京都品川区西五反田1-1-8 NMF五反田駅前ビル\",139.7209161,35.6258705],\n",
    "[ \"MIT\",\"三鷹駅前\",\"東京都武蔵野市中町一丁目9番5号 第一中央ビル3階\",139.5607469,35.704128],\n",
    "[\"FC\",\"府中\",\"東京都府中市日鋼町1-1 ヒューリック府中タワー10F\",139.47222,35.674475],\n",
    "[\"TAMA\",\"多摩\",\"東京都多摩市落合1-15-2 多摩センタートーセイビル\",139.428773,35.625697]]\n",
    "\n",
    "col_name = [\"CODE\",\"BRUNCH_NAME\",\"ADDRESS\",\"LON\",\"LAT\"]\n",
    "\n",
    "if srs_id is None:\n",
    "    srs_id = 2011\n",
    "\n",
    "ibm_loc_df = pd.DataFrame(data=ibm_loc_list,  columns=col_name)\n",
    "sql_flag = '-e'\n",
    "for i, row in ibm_loc_df.iterrows():\n",
    "    code=row['CODE']\n",
    "    branch_name=row['BRUNCH_NAME']\n",
    "    address=row['ADDRESS']\n",
    "    lon=row['LON']\n",
    "    lat=row['LAT']\n",
    "    print(branch_name)\n",
    "    %sql {sql_flag} INSERT INTO IBM_LOC(CODE, BRANCH_NAME, ADDRESS, GEO_POINT) VALUES (:code, :branch_name, :address, ST_Point(:lon, :lat, {srs_id}))\n",
    "    sql_flag = '-q'\n",
    "    if sqlcode != 0:\n",
    "        print(\"Line {0} Error : sqlcode:{1}, sqlstate:{2}, Message: {3}\".format(i, sqlcode, sqlstate, sqlerror))\n",
    "        break;"
   ]
  },
  {
   "cell_type": "markdown",
   "metadata": {},
   "source": [
    "### 中身を確認します"
   ]
  },
  {
   "cell_type": "code",
   "execution_count": null,
   "metadata": {},
   "outputs": [],
   "source": [
    "%sql select * from IBM_LOC"
   ]
  },
  {
   "cell_type": "markdown",
   "metadata": {},
   "source": [
    "# 5. シェアサイクルポート情報のインポート\n",
    "\n",
    "[公共交通オープンデータセンター](https://www.odpt.org/)の以下の2つのデータを1つのテーブル`SHAREBIKE_STATION`にインポートします。\n",
    "\n",
    "- [ドコモ・バイクシェア バイクシェア関連情報(GBFS形式)](https://ckan.odpt.org/dataset/c_bikeshare_gbfs-d-bikeshare)の[バイクシェア関連情報 station_information](https://ckan.odpt.org/dataset/c_bikeshare_gbfs-d-bikeshare/resource/e8936a97-c341-416c-a39a-258335580de5)\n",
    "- [OpenStreet（ハローサイクリング） バイクシェア関連情報(GBFS形式)](https://ckan.odpt.org/dataset/c_bikeshare_gbfs-openstreet)の[バイクシェア関連情報(GBFS形式 / station_information)](https://ckan.odpt.org/dataset/c_bikeshare_gbfs-openstreet/resource/5455c77d-154d-4b22-b0ca-9ea78209ed76)\n",
    "\n",
    "\n",
    "参考: Qiita[公共交通オープンデータセンターにあるドコモ・バイクシェアのstation_information情報をCSVファイルにする](https://qiita.com/nishikyon/items/bfb328bca59c64228474)\n"
   ]
  },
  {
   "cell_type": "markdown",
   "metadata": {},
   "source": [
    "### 5.1 SHAREBIKE_STATIONテーブルの作成"
   ]
  },
  {
   "cell_type": "markdown",
   "metadata": {},
   "source": [
    "以下のDDLで作成します。`GEO_POINT`に経度・緯度情報を`ST_Point`データタイプで入れます。"
   ]
  },
  {
   "cell_type": "code",
   "execution_count": null,
   "metadata": {},
   "outputs": [],
   "source": [
    "%%sql\n",
    "DROP TABLE \"SHAREBIKE_STATION\";\n",
    "CREATE TABLE \"SHAREBIKE_STATION\"  (\n",
    "    \"STATION_ID\" VARCHAR(10 OCTETS) NOT NULL, \n",
    "    \"REGION_ID\" VARCHAR(10 OCTETS) , \n",
    "    \"CAPACITY\" INT , \n",
    "    \"NAME\" VARCHAR(120 OCTETS) ,\n",
    "    \"ADDRESS\"   VARCHAR(300 OCTETS) ,\n",
    "    \"URL\"  VARCHAR(300 OCTETS) ,\n",
    "    \"COMPANY\"   VARCHAR(60 OCTETS) ,    \n",
    "    \"GEO_POINT\" ST_Point,\n",
    "    PRIMARY KEY (STATION_ID)) ;"
   ]
  },
  {
   "cell_type": "markdown",
   "metadata": {},
   "source": [
    "### 5.2 ドコモ・バイクシェア バイクシェア関連情報  station_informationの取得\n",
    "[公共交通オープンデータセンター](https://www.odpt.org/)から<br>\n",
    "- [ドコモ・バイクシェア バイクシェア関連情報(GBFS形式)](https://ckan.odpt.org/dataset/c_bikeshare_gbfs-d-bikeshare)の[バイクシェア関連情報 station_information](https://ckan.odpt.org/dataset/c_bikeshare_gbfs-d-bikeshare/resource/e8936a97-c341-416c-a39a-258335580de5)\n",
    "をダウンロードし、pandasのDataFrameに入れます。"
   ]
  },
  {
   "cell_type": "code",
   "execution_count": null,
   "metadata": {
    "scrolled": true
   },
   "outputs": [],
   "source": [
    "## ドコモ・バイクシェア バイクシェア関連情報 station_information　緯度・経度情報を取得\n",
    "import requests\n",
    "import json\n",
    "import pandas as pd\n",
    "\n",
    "#ドコモ・バイクシェア バイクシェア関連情報  station_information\n",
    "req_url = 'https://api-public.odpt.org/api/v4/gbfs/docomo-cycle-tokyo/station_information.json'\n",
    "\n",
    "# URLにアクセス\n",
    "request = requests.get(req_url)\n",
    "\n",
    "# 必要な部分のみ抜き出し\n",
    "data_json = json.loads(request.text)['data']['stations']\n",
    "\n",
    "# pandasのDataFrameに入れる\n",
    "domomo_df = pd.DataFrame(data=data_json)\n",
    "domomo_df"
   ]
  },
  {
   "cell_type": "markdown",
   "metadata": {},
   "source": [
    "ドコモ・バイクシェア バイクシェア関連情報 station_informationには住所情報がありません。"
   ]
  },
  {
   "cell_type": "markdown",
   "metadata": {},
   "source": [
    "### 5.3ドコモ・バイクシェア バイクシェア関連情報  station_informationのSHAREBIKE_STATIONへのインポート\n",
    "\n",
    "\n",
    "ST_Point(<緯度>, <経度>, <空間参照系 ID >)で`ST_Point`データタイプに変換して、INSERTしています。\n",
    "\n",
    "今回は、最初の方に確認しているJGD2011の空間参照系を使うので、変数に入れたsrs_idを使います。\n"
   ]
  },
  {
   "cell_type": "code",
   "execution_count": null,
   "metadata": {},
   "outputs": [],
   "source": [
    "# SHAREBIKE_STATIONへのインポート(といいつつINSERT)\n",
    "# 30秒から50秒かかります(WatssonStudio SaaS版からDb2 Warehouse on Cloudで実施した場合の時間)\n",
    "import datetime\n",
    "print(\"{0} Start.\".format(datetime.datetime.now()))\n",
    "if srs_id is None:\n",
    "    srs_id = 2011\n",
    "print(\"srs_id is \" +str(srs_id))\n",
    "%sql AUTOCOMMIT OFF\n",
    "sql_flag = '-e'\n",
    "for i, row in domomo_df.iterrows():\n",
    "    station_id='D' + str(row['station_id'])\n",
    "    region_id=row['region_id']\n",
    "    capacity=row['capacity']\n",
    "    name=row['name']\n",
    "    company=\"DOCOMO\"\n",
    "    lon=row['lon']\n",
    "    lat=row['lat']\n",
    "\n",
    "    \n",
    "    %sql {sql_flag} INSERT INTO SHAREBIKE_STATION (station_id, region_id, capacity, name, company, GEO_POINT) VALUES (:station_id, :region_id, :capacity, :name, :company, ST_Point(:lon, :lat, {srs_id}))\n",
    "    sql_flag = '-q'\n",
    "    if sqlcode != 0:\n",
    "        print(\"Line {0} Error : sqlcode:{1}, sqlstate:{2}, Message: {3}\".format(i, sqlcode, sqlstate, sqlerror))\n",
    "        break;\n",
    "\n",
    "    if i%100 == 0:\n",
    "        %sql COMMIT WORK\n",
    "        print(\"{0} {1}/{2}: completed.\".format(datetime.datetime.now(), i, len(domomo_df)))\n",
    "\n",
    "%sql COMMIT WORK\n",
    "%sql AUTOCOMMIT ON\n",
    "print(\"{0} End.\".format(datetime.datetime.now()))\n"
   ]
  },
  {
   "cell_type": "markdown",
   "metadata": {},
   "source": [
    "#### 件数を確認します。"
   ]
  },
  {
   "cell_type": "code",
   "execution_count": null,
   "metadata": {},
   "outputs": [],
   "source": [
    "%sql select count(*) from SHAREBIKE_STATION"
   ]
  },
  {
   "cell_type": "markdown",
   "metadata": {},
   "source": [
    "### 5.4 OpenStreet（ハローサイクリング） バイクシェア関連情報  station_informationの取得\n",
    "[公共交通オープンデータセンター](https://www.odpt.org/)から<br>\n",
    "- [OpenStreet（ハローサイクリング） バイクシェア関連情報(GBFS形式)](https://ckan.odpt.org/dataset/c_bikeshare_gbfs-openstreet)の[バイクシェア関連情報(GBFS形式 / station_information)](https://ckan.odpt.org/dataset/c_bikeshare_gbfs-openstreet/resource/5455c77d-154d-4b22-b0ca-9ea78209ed76)\n",
    "をダウンロードし、pandasのDataFrameに入れます。\n",
    "\n",
    "ドコモのデータの場合と方法は同じです。項目がちょっと違っている程度です。"
   ]
  },
  {
   "cell_type": "code",
   "execution_count": null,
   "metadata": {},
   "outputs": [],
   "source": [
    "#OpenStreet（ハローサイクリング） バイクシェア関連情報  station_information　緯度・経度情報を取得\n",
    "req_url = 'https://api-public.odpt.org/api/v4/gbfs/hellocycling/station_information.json'\n",
    "\n",
    "# URLにアクセス\n",
    "request = requests.get(req_url)\n",
    "\n",
    "# 必要な部分のみ抜き出し\n",
    "data_json = json.loads(request.text)['data']['stations']\n",
    "\n",
    "# pandasのDataFrameに入れる\n",
    "hello_df = pd.DataFrame(data=data_json)\n",
    "hello_df"
   ]
  },
  {
   "cell_type": "markdown",
   "metadata": {},
   "source": [
    "### 5.5 OpenStreet（ハローサイクリング） バイクシェア関連情報 station_informationのSHAREBIKE_STATIONへのインポート\n",
    "\n",
    "\n",
    "ドコモのデータの場合と方法は同じです。項目がちょっと違っている程度です。<br>\n",
    "件数が多いので時間が少々かかります。"
   ]
  },
  {
   "cell_type": "code",
   "execution_count": null,
   "metadata": {},
   "outputs": [],
   "source": [
    "# SHAREBIKE_STATIONへのインポート(といいつつINSERT)\n",
    "# 3-4分かかります(同じリージョンのWatssonStudio SaaS版からDb2 Warehouse on Cloudで実施した場合の時間)\n",
    "import datetime\n",
    "print(\"{0} Start.\".format(datetime.datetime.now()))\n",
    "if srs_id is None:\n",
    "    srs_id = 2011\n",
    "%sql AUTOCOMMIT OFF\n",
    "sql_flag = '-e'\n",
    "for i, row in hello_df.iterrows():\n",
    "    station_id='H' + str(row['station_id'])\n",
    "    capacity=row['vehicle_type_capacity']['num_bikes_limit']\n",
    "    name=row['name']\n",
    "    address=row['address']\n",
    "    url=row['rental_uris']\n",
    "    company=\"HELLO\"\n",
    "    lon=row['lon']\n",
    "    lat=row['lat']\n",
    "\n",
    "    \n",
    "    %sql {sql_flag} INSERT INTO SHAREBIKE_STATION (station_id,  capacity, name, address, url, company, GEO_POINT) VALUES (:station_id,  :capacity, :name, :address, :url, :company, ST_Point(:lon, :lat, {srs_id}))\n",
    "    sql_flag = '-q'\n",
    "    if sqlcode != 0:\n",
    "        print(\"Line {0} Error : sqlcode:{1}, sqlstate:{2}, Message: {3}\".format(i, sqlcode, sqlstate, sqlerror))\n",
    "        break;\n",
    "\n",
    "    if i%100 == 0:\n",
    "        if i%1000==0:\n",
    "            %sql COMMIT WORK\n",
    "            print(\"{0} {1}/{2}: commit completed.\".format(datetime.datetime.now(), i, len(hello_df)))\n",
    "        print(\"{0} {1}/{2}: completed.\".format(datetime.datetime.now(), i, len(hello_df)))\n",
    "\n",
    "%sql COMMIT WORK\n",
    "%sql AUTOCOMMIT ON\n",
    "print(\"{0} End.\".format(datetime.datetime.now()))\n"
   ]
  },
  {
   "cell_type": "markdown",
   "metadata": {},
   "source": [
    "#### 件数を確認します。"
   ]
  },
  {
   "cell_type": "code",
   "execution_count": null,
   "metadata": {},
   "outputs": [],
   "source": [
    "%sql select count(*) from SHAREBIKE_STATION"
   ]
  },
  {
   "cell_type": "markdown",
   "metadata": {},
   "source": [
    "# 6. ダミーの売上データ作成\n",
    "\n",
    "次の「地理空間分析」で売上と場所の関係を地図にマップしてみたいので、ダミーの売上データ作成を作成しておきます。\n",
    "\n",
    "とりあえずドコモ(ドコモのポートはほとんど都内)とHELLOは東京に住所のあるシェアサイクルポートに絞って、2021年の各月の売り上げを乱数で適当に作ります(ポート数が多いほど金額が高くなる確率が高いようにしてあります)。"
   ]
  },
  {
   "cell_type": "markdown",
   "metadata": {},
   "source": [
    "<span style=\"color: red; font-size: 200%;\">\n",
    "2022/09/28のDataBase Dojoの環境で使用している場合は、<br>このデータはあらかじめ準備されていますので、6はSKIPしてください。<br>\n",
    "\n",
    "- 「[7. DB接続の切断](#db_connect_close)」に進んでください。\n",
    "</span>"
   ]
  },
  {
   "cell_type": "code",
   "execution_count": null,
   "metadata": {},
   "outputs": [],
   "source": [
    "%%sql\n",
    "DROP TABLE \"STATION_SALES\";\n",
    "CREATE TABLE \"STATION_SALES\"  (\n",
    "\"STATION_ID\" VARCHAR(10 OCTETS) NOT NULL, \n",
    "\"DATE\" VARCHAR(10 OCTETS)  NOT NULL,  \n",
    "\"AMOUNT\" DECIMAL(10) ,\n",
    "PRIMARY KEY (STATION_ID, DATE))\n",
    "IN \"USERSPACE1\"  \n",
    "ORGANIZE BY COLUMN;"
   ]
  },
  {
   "cell_type": "code",
   "execution_count": null,
   "metadata": {},
   "outputs": [],
   "source": [
    "# STATION_SALESへのIダミー売上INSERT\n",
    "# 3-4分かかります(WatssonStudio SaaS版からDb2 Warehouse on Cloudで実施した場合の時間)\n",
    "import random\n",
    "import datetime\n",
    "\n",
    "#　ダミー売上金額作成関数　引数はシェアサイクルポートのcapacity\n",
    "def get_dummy_ammount(capa):\n",
    "    a=random.randint(1, 48)\n",
    "    return capa * a * 160 * 30\n",
    "\n",
    "# ドコモと東京に住所のあるシェアサイクルポートのSTATION_ID, capacity　を取得\n",
    "df_st = %sql SELECT  STATION_ID, capacity FROM SHAREBIKE_STATION WHERE COMPANY='DOCOMO' OR ADDRESS LIKE '東京%'\n",
    "\n",
    "#　ダミー売上金額 INSERT\n",
    "print(\"{0} Start.\".format(datetime.datetime.now()))\n",
    "if srs_id is None:\n",
    "    srs_id = 2011\n",
    "%sql AUTOCOMMIT OFF\n",
    "sql_flag = '-e'\n",
    "for i, row in df_st.iterrows():\n",
    "    station_id=row['STATION_ID']\n",
    "    capa = row['CAPACITY']\n",
    "    for mon in range(12):\n",
    "        date = datetime.date(2021, mon+1, 1)\n",
    "        amount = get_dummy_ammount(capa)\n",
    "        %sql {sql_flag} INSERT INTO STATION_SALES (station_id, date, amount) VALUES (:station_id, :date, :amount)\n",
    "        sql_flag = '-q'\n",
    "        if sqlcode != 0:\n",
    "            print(\"Line {0} Error : sqlcode:{1}, sqlstate:{2}, Message: {3}\".format(i, sqlcode, sqlstate, sqlerror))\n",
    "            break;\n",
    "            \n",
    "    if i%100 == 0:\n",
    "        if i%1000==0:\n",
    "            %sql COMMIT WORK\n",
    "            print(\"{0} {1}/{2}: commit completed.\".format(datetime.datetime.now(), i, len(df_st)))\n",
    "        print(\"{0} {1}/{2}: completed.\".format(datetime.datetime.now(), i, len(df_st)))\n",
    "        \n",
    "%sql COMMIT WORK\n",
    "%sql AUTOCOMMIT ON\n",
    "print(\"{0} End.\".format(datetime.datetime.now()))"
   ]
  },
  {
   "cell_type": "markdown",
   "metadata": {},
   "source": [
    "### 中身を確認します"
   ]
  },
  {
   "cell_type": "code",
   "execution_count": null,
   "metadata": {},
   "outputs": [],
   "source": [
    "%sql select * from STATION_SALES"
   ]
  },
  {
   "cell_type": "markdown",
   "metadata": {},
   "source": [
    "<a id=\"db_connect_close\"> </a>\n",
    "# 7. DB接続の切断"
   ]
  },
  {
   "cell_type": "code",
   "execution_count": null,
   "metadata": {},
   "outputs": [],
   "source": [
    "# DB接続の切断\n",
    "%sql connect close"
   ]
  },
  {
   "cell_type": "markdown",
   "metadata": {},
   "source": [
    "これで**「データセットアップ」**は完了です！\n",
    "\n",
    "次の「地理空間分析」に進みましょう。"
   ]
  }
 ],
 "metadata": {
  "kernelspec": {
   "display_name": "Python 3.9.11 64-bit",
   "language": "python",
   "name": "python3"
  },
  "language_info": {
   "codemirror_mode": {
    "name": "ipython",
    "version": 3
   },
   "file_extension": ".py",
   "mimetype": "text/x-python",
   "name": "python",
   "nbconvert_exporter": "python",
   "pygments_lexer": "ipython3",
   "version": "3.9.11"
  },
  "vscode": {
   "interpreter": {
    "hash": "026e02b2b46d6648409bf27e83c2662d5dab392bd1184b70e0623dc1ac120d70"
   }
  }
 },
 "nbformat": 4,
 "nbformat_minor": 1
}
