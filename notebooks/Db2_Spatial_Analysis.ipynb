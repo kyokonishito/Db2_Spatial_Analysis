{
 "cells": [
  {
   "cell_type": "markdown",
   "metadata": {},
   "source": [
    "\n",
    "# Db2でシェアサイクルポートの地理情報分析をやってみよう!\n",
    "## 地理情報分析\n",
    "\n",
    "<br>\n",
    "\n",
    "**実行は　セルを選択して**\n",
    "\n",
    "- **Windows： Ctrl+Enter**\n",
    "- **Mac: ⌘ (command) + Enter 　または Ctrl + Enter**\n",
    "\n",
    "### 前提\n",
    " - [地理空間分析機能を有効にしている](https://qiita.com/nishikyon/items/4cd0430e4ebb7d541a82)\n",
    " - [JGD2011座標系の設定済み](https://qiita.com/nishikyon/items/fc97391f02b4e9e4bb9c)\n",
    " - [データセットアップ のnotebook](https://github.com/kyokonishito/Db2_Spatial_Analysis/blob/main/notebooks/Data_Setup.ipynb)を実行済み\n",
    " \n",
    "  2022/09/28のDataBase Dojoの環境で使用している場合は上記は既に設定済みです\n",
    "  \n",
    " ### 確認済み動作環境\n",
    "- Watson Studio SaaS版\n"
   ]
  },
  {
   "cell_type": "markdown",
   "metadata": {},
   "source": [
    "## 1. 前準備\n",
    "### 1.1 Db2接続情報のセット\n",
    "\n",
    "XXXXと9999は自分の接続先のDb2の情報を入れてください"
   ]
  },
  {
   "cell_type": "code",
   "execution_count": null,
   "metadata": {},
   "outputs": [],
   "source": [
    "user = \"xxxx\" # db2ユーザーid\n",
    "password = \"xxxx\" #db2パスワードを入れる\n",
    "databese = \"xxxx\" # db2 Db名\n",
    "host =  \"xxxx\" # db2 ホスト名\n",
    "port =  9999 #Db2ポート番号\n"
   ]
  },
  {
   "cell_type": "markdown",
   "metadata": {},
   "source": [
    "### 1.2 Db2 Jupyter Notebook Extensions のロード\n",
    "https://github.com/IBM/db2-jupyter\n",
    "\n",
    "notebookでdb2 SQLを使いやすくる`Db2 Jupyter Notebook Extensions`をダウンロード&ロードします。"
   ]
  },
  {
   "cell_type": "code",
   "execution_count": null,
   "metadata": {},
   "outputs": [],
   "source": [
    "import os\n",
    "path = \"./db2.ipynb\"\n",
    "if not os.path.exists(path):\n",
    "    !wget https://raw.githubusercontent.com/IBM/db2-jupyter/master/db2.ipynb\n",
    "else:\n",
    "    print(\"db2.ipynb is existing.\")"
   ]
  },
  {
   "cell_type": "code",
   "execution_count": null,
   "metadata": {},
   "outputs": [],
   "source": [
    "%run db2.ipynb"
   ]
  },
  {
   "cell_type": "markdown",
   "metadata": {},
   "source": [
    "### 1.3 Db2に接続します\n",
    "`Db2 Jupyter Notebook Extensions`を使用してDb2に接続"
   ]
  },
  {
   "cell_type": "code",
   "execution_count": null,
   "metadata": {},
   "outputs": [],
   "source": [
    "%sql CONNECT TO {databese} USER {user} USING {password} HOST {host} port {port} SSL TRUE"
   ]
  },
  {
   "cell_type": "markdown",
   "metadata": {},
   "source": [
    "### 1.4 地図表示など必要なライブラリの導入とインポート\n",
    "以下を使用します。\n",
    " - [pandas](https://pandas.pydata.org/) \n",
    " - [geopandas](https://geopandas.org/en/stable/)\n",
    " - [folium](http://python-visualization.github.io/folium/)"
   ]
  },
  {
   "cell_type": "code",
   "execution_count": null,
   "metadata": {},
   "outputs": [],
   "source": [
    "# ライブラリーのインストール\n",
    "!pip install geopandas\n",
    "!pip install folium"
   ]
  },
  {
   "cell_type": "code",
   "execution_count": null,
   "metadata": {},
   "outputs": [],
   "source": [
    "# ライブラリーのインポート\n",
    "import pandas as pd\n",
    "import geopandas as gpd\n",
    "import folium"
   ]
  },
  {
   "cell_type": "markdown",
   "metadata": {},
   "source": [
    "- - -"
   ]
  },
  {
   "cell_type": "markdown",
   "metadata": {},
   "source": [
    "### 2.　都内IBM事業所から1km以内のシェアサイクルポートの情報\n",
    "\n",
    "#### 2.1 日本全国のシェアサイクルポートの情報\n",
    "使用するテーブル1:\n",
    "- SHAREBIKE_STATION 日本全国のシェアサイクルポートの情報\n",
    "\n",
    "どんな情報?\n",
    "```sql\n",
    "SELECT STATION_ID, REGION_ID, CAPACITY, NAME, ADDRESS, URL, COMPANY, \n",
    "ST_X(GEO_POINT) LON, ST_Y(GEO_POINT) LAT FROM SHAREBIKE_STATION\n",
    "```\n",
    "\n",
    "- [ST_X 関数](https://www.ibm.com/docs/ja/db2/11.5?topic=sf-st-x)\n",
    "- [ST_Y 関数](https://www.ibm.com/docs/ja/db2/11.5?topic=sf-st-y)"
   ]
  },
  {
   "cell_type": "code",
   "execution_count": null,
   "metadata": {},
   "outputs": [],
   "source": [
    "# ちょっと中身をみます\n",
    "df = %sql \\\n",
    "    SELECT STATION_ID, REGION_ID, CAPACITY, NAME, ADDRESS, URL, COMPANY, \\\n",
    "    ST_X(GEO_POINT) LON, ST_Y(GEO_POINT) LAT FROM SHAREBIKE_STATION\n",
    "df"
   ]
  },
  {
   "cell_type": "code",
   "execution_count": null,
   "metadata": {},
   "outputs": [],
   "source": [
    "#地図にプロットしてみます\n",
    "from folium.plugins import FastMarkerCluster\n",
    "\n",
    "# 地図生成\n",
    "folium_map = folium.Map(location=[35, 135], zoom_start=5, height = 500)\n",
    "\n",
    "# マーカープロット　\n",
    "FastMarkerCluster(df[['LAT', 'LON']].values.tolist()).add_to(folium_map)\n",
    "\n",
    "folium_map"
   ]
  },
  {
   "cell_type": "markdown",
   "metadata": {},
   "source": [
    "#### DBeaver用 \n",
    "\n",
    "接続設定の方法はこちら：　Qiita 「[DBeaverからDb2 on Cloudにアクセスする](https://qiita.com/nishikyon/items/d0b0e57b72e0996c331c)」\n",
    "\n",
    "- 設定したFetchサイズ分のみ表示されます(初期設定200)\n",
    "- WKT形式にしてVARCHARにCASTするとDBeaverで表示可能です\n",
    "    - [ST_AsText 関数](https://www.ibm.com/docs/ja/db2/11.5?topic=sf-st-astext)\n",
    "    - > **CAST**( **ST_AsText**(GEO_POINT) AS **VARCHAR(50)** ) AS LOC\n",
    "    \n",
    "    \n",
    "    \n",
    "- 空間情報列のView/Format→Set \"xxx\" formatを`Geomerory`にセットしてください\n",
    "\n",
    "<img src=\"https://github.com/kyokonishito/Db2_Spatial_Analysis/blob/main/images/dbeaver.jpg?raw=true\" width=\"800px\" >\n",
    "\n",
    "\n",
    "\n",
    "#### DBeaver用 SQL\n",
    "```sql\n",
    "SELECT STATION_ID, REGION_ID, CAPACITY, NAME, ADDRESS, URL, COMPANY,\n",
    "CAST( ST_AsText(GEO_POINT)AS VARCHAR(50) ) AS LOC\n",
    "FROM SHAREBIKE_STATION;\n",
    "```\n",
    "\n",
    "- - - "
   ]
  },
  {
   "cell_type": "markdown",
   "metadata": {},
   "source": [
    "#### 2.2 IBM事業所情報\n",
    "使用するテーブル2:\n",
    "- IBM_LOC 東京都のIBM事業所のテーブル\n",
    "\n",
    "どんな情報?\n",
    "```sql\n",
    "SELECT CODE, BRANCH_NAME, ADDRESS, \n",
    "ST_X(GEO_POINT) LON, ST_Y(GEO_POINT) LAT FROM IBM_LOC\n",
    "```"
   ]
  },
  {
   "cell_type": "code",
   "execution_count": null,
   "metadata": {},
   "outputs": [],
   "source": [
    "# ちょっと中身をみます\n",
    "df = %sql \\\n",
    "    SELECT CODE, BRANCH_NAME, ADDRESS, \\\n",
    "    ST_X(GEO_POINT) LON, ST_Y(GEO_POINT) LAT FROM IBM_LOC\n",
    "df"
   ]
  },
  {
   "cell_type": "code",
   "execution_count": null,
   "metadata": {},
   "outputs": [],
   "source": [
    "# 地図生成\n",
    "folium_map = folium.Map(location=[35.6769883, 139.7588499], zoom_start=11, height = 500)\n",
    "\n",
    "# マーカープロット　\n",
    "for i, row in df.iterrows():\n",
    "    folium.Marker(\n",
    "        location=[row['LAT'], row['LON']],\n",
    "        tooltip=row['BRANCH_NAME']\n",
    "    ).add_to(folium_map)\n",
    "\n",
    "folium_map"
   ]
  },
  {
   "cell_type": "markdown",
   "metadata": {},
   "source": [
    "#### DBeaver用 SQL\n",
    "```sql\n",
    "SELECT CODE, BRANCH_NAME, ADDRESS, \n",
    "CAST( ST_AsText(GEO_POINT)AS VARCHAR(50) ) AS LOC FROM IBM_LOC;\n",
    "```\n",
    "\n",
    "- - - "
   ]
  },
  {
   "cell_type": "markdown",
   "metadata": {},
   "source": [
    "#### 2.3　登録済みIBM事業所から1km以内のシェアサイクルポートの情報\n",
    "\n",
    "[ST_Distance関数](https://www.ibm.com/docs/ja/db2/11.5?topic=sf-st-distance)\n",
    "> **ST_Distance**(IBM.GEO_POINT, ST.GEO_POINT, **'KILOMETER'**) <=1\n",
    "\n",
    "で1km以内の条件となる\n",
    "\n",
    "```sql\n",
    "SELECT ST.NAME, ST.CAPACITY, IBM.BRANCH_NAME, \n",
    "       ST_X(ST.GEO_POINT) LON, ST_Y(ST.GEO_POINT) LAT\n",
    "FROM SHAREBIKE_STATION ST \n",
    "CROSS JOIN IBM_LOC IBM \n",
    "WHERE ST_Distance(IBM.GEO_POINT, ST.GEO_POINT, 'KILOMETER') <=1\n",
    "```"
   ]
  },
  {
   "cell_type": "code",
   "execution_count": null,
   "metadata": {},
   "outputs": [],
   "source": [
    "df =%sql \\\n",
    "    SELECT ST.NAME, ST.CAPACITY, IBM.BRANCH_NAME, \\\n",
    "           ST_X(ST.GEO_POINT) LON, ST_Y(ST.GEO_POINT) LAT \\\n",
    "    FROM SHAREBIKE_STATION ST \\\n",
    "    CROSS JOIN IBM_LOC IBM \\\n",
    "    WHERE ST_Distance(IBM.GEO_POINT ,  ST.GEO_POINT, 'KILOMETER') <=1\n",
    "df "
   ]
  },
  {
   "cell_type": "code",
   "execution_count": null,
   "metadata": {
    "scrolled": true
   },
   "outputs": [],
   "source": [
    "# 地図生成\n",
    "folium_map = folium.Map(location=[35.6769883, 139.7588499], zoom_start=12, height = 500)\n",
    "\n",
    "# マーカープロット　\n",
    "for i, row in df.iterrows():\n",
    "    folium.CircleMarker(\n",
    "        location=[row['LAT'], row['LON']],\n",
    "        tooltip=row['NAME'],\n",
    "        radius=5,\n",
    "        color='green',\n",
    "        fill_color='green'\n",
    "    ).add_to(folium_map)\n",
    "\n",
    "#IBM事業所から1km プロット\n",
    "df_ibm_loc = %sql \\\n",
    "    SELECT BRANCH_NAME, ADDRESS, ST_X(GEO_POINT) LON, ST_Y(GEO_POINT) LAT \\\n",
    "    FROM IBM_LOC \n",
    "for i, row in df_ibm_loc.iterrows():\n",
    "    folium.Circle(\n",
    "        [row['LAT'], row['LON']],\n",
    "        radius=1000,\n",
    "    ).add_to(folium_map)\n",
    "    folium.Marker(\n",
    "        location=[row['LAT'], row['LON']],\n",
    "        tooltip=row['BRANCH_NAME']\n",
    "    ).add_to(folium_map)\n",
    "\n",
    "folium_map"
   ]
  },
  {
   "cell_type": "markdown",
   "metadata": {},
   "source": [
    "#### DBeaver用 SQL\n",
    "```sql\n",
    "SELECT ST.NAME, ST.CAPACITY, CAST( ST_AsText(ST.GEO_POINT)AS VARCHAR(50) ) AS LOC, \n",
    "IBM.BRANCH_NAME, CAST( ST_AsText(IBM.GEO_POINT)AS VARCHAR(50) )AS IBM_LOC\n",
    "FROM SHAREBIKE_STATION ST \n",
    "CROSS JOIN IBM_LOC IBM \n",
    "WHERE ST_Distance(IBM.GEO_POINT, ST.GEO_POINT, 'KILOMETER') <=1 ;\n",
    "```\n",
    "\n",
    "- - - "
   ]
  },
  {
   "cell_type": "markdown",
   "metadata": {},
   "source": [
    "### 3.千代田区と中央区と港区のシェアサイクルポートの情報\n",
    "使用するテーブル1:\n",
    "- SHAREBIKE_STATION 日本全国のシェアサイクルポートの情報\n",
    "\n",
    "使用するテーブル2:\n",
    "- CITY_SHAPE 東京都市区町村境界\n",
    "\n",
    "### 3.1 東京都市区町村境界\n",
    "どんな情報?\n",
    "```sql\n",
    "SELECT SE_ROW_ID ,N03_001 ,N03_002 ,N03_003, N03_004, N03_007, \n",
    "CAST(ST_AsText(GEO) AS VARCHAR(30000)) LOC  \n",
    "FROM CITY_SHAPE WHERE N03_004 IN ('中央区', '千代田区', '港区')\n",
    "```"
   ]
  },
  {
   "cell_type": "code",
   "execution_count": null,
   "metadata": {
    "scrolled": true
   },
   "outputs": [],
   "source": [
    "df_area =%sql \\\n",
    "    SELECT OBJECTID ,N03_001 ,N03_002 ,N03_003, N03_004, N03_007,\\\n",
    "    CAST(ST_AsText(GEO) AS VARCHAR(30000)) LOC  \\\n",
    "    FROM CITY_SHAPE WHERE N03_004 IN ('中央区', '千代田区', '港区')\n",
    "display(df_area)"
   ]
  },
  {
   "cell_type": "code",
   "execution_count": null,
   "metadata": {},
   "outputs": [],
   "source": [
    "# 地図生成\n",
    "folium_map = folium.Map(location=[35.6636391,139.7606268], zoom_start=12, height = 500)\n",
    "\n",
    "gdf = gpd.GeoDataFrame(df_area, geometry = gpd.GeoSeries.from_wkt(df_area.LOC))\n",
    "geo_j = gdf['geometry'].to_json()\n",
    "folium.GeoJson(geo_j, style_function=lambda x: {'fillColor': 'orange'}).add_to(folium_map)\n",
    "folium_map"
   ]
  },
  {
   "cell_type": "markdown",
   "metadata": {},
   "source": [
    "#### DBeaver用 SQL\n",
    "```sql\n",
    "SELECT OBJECTID ,N03_001 ,N03_002 ,N03_003, N03_004, N03_007, \n",
    "CAST(ST_AsText(GEO) AS VARCHAR(30000)) LOC  \n",
    "FROM CITY_SHAPE WHERE N03_004 IN ('中央区', '千代田区', '港区')；\n",
    "```\n",
    "\n",
    "- - - "
   ]
  },
  {
   "cell_type": "markdown",
   "metadata": {},
   "source": [
    "\n",
    "### 3.2 千代田区と中央区と港区のシェアサイクルポートの情報\n",
    "**[ST_Within（形状1, 形状2)](https://www.ibm.com/docs/ja/db2/11.5?topic=sf-st-within)**: 形状2が形状1を内包するか\n",
    "> **ST_Within**(ST.GEO_POINT, AREA.GEO)\n",
    "\n",
    "```sql\n",
    "with AREA AS (\n",
    "    SELECT GEO\n",
    "    FROM CITY_SHAPE \n",
    "    WHERE N03_004 IN ('中央区', '千代田区', '港区')\n",
    ")\n",
    "SELECT ST.NAME, ST.CAPACITY, ST_X(ST.GEO_POINT) LON, ST_Y(ST.GEO_POINT) LAT\n",
    "FROM SHAREBIKE_STATION ST, AREA\n",
    "WHERE ST_Within(ST.GEO_POINT, AREA.GEO)\n",
    "```"
   ]
  },
  {
   "cell_type": "code",
   "execution_count": null,
   "metadata": {},
   "outputs": [],
   "source": [
    "df = %sql \\\n",
    "    with AREA AS ( \\\n",
    "    SELECT GEO \\\n",
    "    FROM CITY_SHAPE  \\\n",
    "    WHERE N03_004 IN ('中央区', '千代田区', '港区')\\\n",
    "    )\\\n",
    "    SELECT ST.NAME, ST.CAPACITY, ST_X(ST.GEO_POINT) LON, ST_Y(ST.GEO_POINT) LAT \\\n",
    "    FROM SHAREBIKE_STATION ST, AREA \\\n",
    "    WHERE ST_Within(ST.GEO_POINT, AREA.GEO)\n",
    "display(df)\n"
   ]
  },
  {
   "cell_type": "code",
   "execution_count": null,
   "metadata": {},
   "outputs": [],
   "source": [
    "#マーカープロット＋地図表示\n",
    "\n",
    "for i, row in df.iterrows():\n",
    "    folium.CircleMarker(\n",
    "        location=[row['LAT'], row['LON']],\n",
    "        tooltip=row['NAME'],\n",
    "        radius=5,\n",
    "        color='green',\n",
    "        fill_color='green'\n",
    "    ).add_to(folium_map)\n",
    "\n",
    "\n",
    "folium_map"
   ]
  },
  {
   "cell_type": "markdown",
   "metadata": {},
   "source": [
    "#### DBeaver用 SQL\n",
    "```sql\n",
    "with AREA AS (\n",
    "    SELECT N03_004, GEO\n",
    "    FROM  CITY_SHAPE \n",
    "    WHERE N03_004 IN ('中央区', '千代田区', '港区')\n",
    ")\n",
    "SELECT ST.NAME, ST.CAPACITY, CAST( ST_AsText(ST.GEO_POINT)AS VARCHAR(50) ) AS LOC, \n",
    "AREA.N03_004, CAST( ST_AsText(AREA.GEO)AS VARCHAR(30000) )AS AREA\n",
    "FROM  SHAREBIKE_STATION ST, AREA\n",
    "WHERE ST_Within(ST.GEO_POINT, AREA.GEO) ;\n",
    "```\n",
    "\n",
    "- - -"
   ]
  },
  {
   "cell_type": "markdown",
   "metadata": {},
   "source": [
    "### 4.千代田区と中央区と港区のシェアサイクルポートの売上分析\n",
    "使用するテーブル1:\n",
    "- SHAREBIKE_STATION 日本全国のシェアサイクルポートの情報\n",
    "\n",
    "使用するテーブル2:\n",
    "- STATION_SALES シェアサイクルポート月別売上情報\n",
    "\n",
    "\n",
    "\n",
    "\n",
    "### 4.1 シェアサイクルポート月別売上情報\n",
    "どんな情報?\n",
    "```sql\n",
    "SELECT *FROM STATION_SALES FETCH FIRST 10 ROWS ONLY\n",
    "```"
   ]
  },
  {
   "cell_type": "code",
   "execution_count": null,
   "metadata": {},
   "outputs": [],
   "source": [
    "%sql SELECT *FROM STATION_SALES FETCH FIRST 10 ROWS ONLY\n"
   ]
  },
  {
   "cell_type": "markdown",
   "metadata": {},
   "source": [
    "### 4.2 千代田区と中央区と港区のシェアサイクルポートの売上TOP100\n",
    "**[ST_Within（形状1, 形状2)](https://www.ibm.com/docs/ja/db2/11.5?topic=sf-st-within)**: 形状2が形状1を内包するか\n",
    "```sql\n",
    "WITH TOKYO3_ST AS ( \n",
    "        WITH SHAPE  as (SELECT GEO FROM CITY_SHAPE WHERE N03_004 IN ('中央区', '千代田区', '港区') )\n",
    "        SELECT STATION_ID, NAME, ST_AsText( GEO_POINT) AS LOC, ST_X(GEO_POINT) LON ,\n",
    "        ST_Y(GEO_POINT) LAT, ST_AsText(GEO) AS GEO \n",
    "        FROM SHAREBIKE_STATION , SHAPE\n",
    "        WHERE ST_Within (GEO_POINT, GEO)\n",
    "    ),\n",
    "    ANUAL_SALES AS (\n",
    "        SELECT STATION_ID,SUM(AMOUNT) AS AMOUNT\n",
    "        FROM STATION_SALES \n",
    "        GROUP BY  STATION_ID \n",
    "        ORDER BY AMOUNT DESC \n",
    "    ) \n",
    "    SELECT T.STATION_ID, NAME, CAST(LOC AS VARCHAR(50)) AS LOC, LON, LAT, CAST(GEO AS VARCHAR(10000)) AS GEO, AMOUNT \n",
    "    FROM TOKYO3_ST T, ANUAL_SALES S \n",
    "    WHERE T.STATION_ID = S.STATION_ID \n",
    "    ORDER BY AMOUNT DESC LIMIT 100\n",
    "```\n"
   ]
  },
  {
   "cell_type": "code",
   "execution_count": null,
   "metadata": {},
   "outputs": [],
   "source": [
    "df = %sql \\\n",
    "    WITH TOKYO3_ST AS (\\\n",
    "        WITH SHAPE AS (SELECT GEO FROM CITY_SHAPE WHERE N03_004 IN ('中央区', '千代田区', '港区') ) \\\n",
    "        SELECT STATION_ID, NAME, ST_X(GEO_POINT) LON, ST_Y(GEO_POINT) LAT\\\n",
    "        FROM SHAREBIKE_STATION , SHAPE \\\n",
    "        WHERE ST_Within (GEO_POINT, GEO) \\\n",
    "    ), \\\n",
    "    ANUAL_SALES AS ( \\\n",
    "        SELECT STATION_ID,SUM(AMOUNT) AS AMOUNT \\\n",
    "        FROM STATION_SALES \\\n",
    "        GROUP BY  STATION_ID \\\n",
    "        ORDER BY AMOUNT DESC \\\n",
    "    ) \\\n",
    "    SELECT T.STATION_ID, NAME, LON, LAT, AMOUNT \\\n",
    "    FROM TOKYO3_ST T, ANUAL_SALES S \\\n",
    "    WHERE T.STATION_ID = S.STATION_ID \\\n",
    "    ORDER BY AMOUNT DESC LIMIT 100\n",
    "df"
   ]
  },
  {
   "cell_type": "code",
   "execution_count": null,
   "metadata": {},
   "outputs": [],
   "source": [
    "# 地図表示\n",
    "df_area =%sql SELECT CAST(ST_AsText(GEO) AS VARCHAR(30000)) LOC FROM CITY_SHAPE WHERE N03_004 IN ('中央区', '千代田区', '港区') \n",
    "\n",
    "# 地図生成3\n",
    "\n",
    "folium_map = folium.Map(location=[35.6636391,139.7606268], zoom_start=12, height = 500)\n",
    "\n",
    "gdf = gpd.GeoDataFrame(df_area, geometry = gpd.GeoSeries.from_wkt(df_area.LOC))\n",
    "geo_j = gdf['geometry'].to_json()\n",
    "folium.GeoJson(geo_j, style_function=lambda x: {'fillColor': 'orange'}).add_to(folium_map)\n",
    "\n",
    "# マーカープロット　\n",
    "for i, row in df.iterrows():\n",
    "    folium.CircleMarker(\n",
    "        location=[row['LAT'], row['LON']],\n",
    "        tooltip=row['NAME']+'<br>'+'年間売上 ¥'+format(row['AMOUNT'], ',.0f'),\n",
    "        radius=5,\n",
    "        color='green',\n",
    "        fill_color='green'\n",
    "    ).add_to(folium_map)\n",
    "\n",
    "\n",
    "folium_map"
   ]
  },
  {
   "cell_type": "markdown",
   "metadata": {},
   "source": [
    "### DBeaver用 SQL\n",
    "```sql\n",
    "WITH TOKYO3_ST AS ( \n",
    "        WITH SHAPE  as (SELECT N03_004, GEO FROM CITY_SHAPE WHERE N03_004 IN ('中央区', '千代田区', '港区') )\n",
    "        SELECT STATION_ID, NAME, ST_AsText( GEO_POINT) AS LOC, ST_X(GEO_POINT) LON ,\n",
    "        ST_Y(GEO_POINT) LAT, N03_004,  CAST( ST_AsText(GEO)AS VARCHAR(30000) )  AS GEO \n",
    "        FROM SHAREBIKE_STATION , SHAPE\n",
    "        WHERE ST_Within (GEO_POINT, GEO)\n",
    "    ),\n",
    "    ANUAL_SALES AS (\n",
    "        SELECT STATION_ID,SUM(AMOUNT) AS AMOUNT\n",
    "        FROM STATION_SALES \n",
    "        GROUP BY  STATION_ID \n",
    "        ORDER BY AMOUNT DESC \n",
    "    ) \n",
    "    SELECT T.STATION_ID, NAME, CAST(LOC AS VARCHAR(50)) AS LOC, LON, LAT, N03_004, GEO, AMOUNT \n",
    "    FROM TOKYO3_ST T, ANUAL_SALES S \n",
    "    WHERE T.STATION_ID = S.STATION_ID \n",
    "    ORDER BY AMOUNT DESC LIMIT 100;\n",
    "```\n",
    "\n",
    "- - -"
   ]
  },
  {
   "cell_type": "markdown",
   "metadata": {},
   "source": [
    "### 4.3 千代田区と中央区と港区のシェアサイクルポートの売上Heatmap\n",
    "**[ST_Within（形状1, 形状2)](https://www.ibm.com/docs/ja/db2/11.5?topic=sf-st-within)**: 形状2が形状1を内包するか\n",
    "```sql\n",
    "WITH TOKYO3_ST AS ( \n",
    "        WITH SHAPE  AS ((SELECT GEO FROM CITY_SHAPE WHERE N03_004 IN ('中央区', '千代田区', '港区'))\n",
    "        SELECT STATION_ID, NAME, ST_X(GEO_POINT) LON, ST_Y(GEO_POINT) LAT\n",
    "        FROM SHAREBIKE_STATION , SHAPE\n",
    "        WHERE ST_Within (GEO_POINT, GEO)\n",
    "    ),\n",
    "    ANUAL_SALES AS (\n",
    "        SELECT STATION_ID,SUM(AMOUNT) AS AMOUNT\n",
    "        FROM STATION_SALES \n",
    "        GROUP BY  STATION_ID \n",
    "        ORDER BY AMOUNT DESC \n",
    "    ) \n",
    "    SELECT T.STATION_ID, NAME, LOC, LON, LAT, AMOUNT \n",
    "    FROM TOKYO3_ST T, ANUAL_SALES S \n",
    "    WHERE T.STATION_ID = S.STATION_ID \n",
    "    ORDER BY AMOUNT DESC\n",
    "```"
   ]
  },
  {
   "cell_type": "code",
   "execution_count": null,
   "metadata": {},
   "outputs": [],
   "source": [
    " # 千代田区と中央区と港区のシェアサイクルポートの売上一覧\n",
    "df = %sql \\\n",
    "        WITH TOKYO3_ST AS ( \\\n",
    "        WITH SHAPE  AS (SELECT GEO FROM CITY_SHAPE WHERE N03_004 IN ('中央区', '千代田区', '港区') )\\\n",
    "        SELECT STATION_ID, NAME, ST_X(GEO_POINT) LON, ST_Y(GEO_POINT) LAT\\\n",
    "        FROM SHAREBIKE_STATION , SHAPE \\\n",
    "        WHERE ST_Within (GEO_POINT, GEO) \\\n",
    "    ), \\\n",
    "    ANUAL_SALES AS ( \\\n",
    "        SELECT STATION_ID,SUM(AMOUNT) AS AMOUNT \\\n",
    "        FROM STATION_SALES \\\n",
    "        GROUP BY  STATION_ID \\\n",
    "        ORDER BY AMOUNT DESC \\\n",
    "    ) \\\n",
    "    SELECT T.STATION_ID, NAME, LON, LAT, AMOUNT \\\n",
    "    FROM TOKYO3_ST T, ANUAL_SALES S \\\n",
    "    WHERE T.STATION_ID = S.STATION_ID \\\n",
    "    ORDER BY AMOUNT DESC\n",
    "#     LIMIT 100\n",
    "\n",
    "df"
   ]
  },
  {
   "cell_type": "code",
   "execution_count": null,
   "metadata": {
    "scrolled": true
   },
   "outputs": [],
   "source": [
    "#千代田区と中央区と港区のシェアサイクルポートの売上Heatmap\n",
    "# 地図表示\n",
    "df_area =%sql SELECT CAST(ST_AsText(GEO) AS VARCHAR(30000)) LOC FROM CITY_SHAPE WHERE N03_004 IN ('中央区', '千代田区', '港区') \n",
    "\n",
    "# 地図生成　\n",
    "folium_map = folium.Map(location=[35.6636391,139.7606268], zoom_start=12, height = 500)\n",
    "\n",
    "\n",
    "#3つの区の境界\n",
    "gdf = gpd.GeoDataFrame(df_area, geometry = gpd.GeoSeries.from_wkt(df_area.LOC))\n",
    "geo_j = gdf['geometry'].to_json()\n",
    "folium.GeoJson(geo_j, style_function=lambda x: {'fillColor': '#00000000'}).add_to(folium_map)\n",
    "\n",
    "#Heatmap作成\n",
    "heat_data_df = df.iloc[:, 2:5][['LAT', 'LON', 'AMOUNT']]\n",
    "folium.plugins.HeatMap(\n",
    "    data = heat_data_df.values, # ２次元を渡す\n",
    "    radius=10,\n",
    "    blur=5\n",
    ").add_to(folium_map)\n",
    "\n",
    "\n",
    "#サイクルポートのマーカー\n",
    "for i, row in df.iterrows():\n",
    "    folium.CircleMarker(\n",
    "        location=[row['LAT'], row['LON']],\n",
    "        tooltip=row['NAME']+'<br>'+'年間売上 ¥'+format(row['AMOUNT'], ',.0f'),\n",
    "        radius=1,\n",
    "        color='green',\n",
    "        fill_color='green'\n",
    "    ).add_to(folium_map)\n"
   ]
  },
  {
   "cell_type": "code",
   "execution_count": null,
   "metadata": {},
   "outputs": [],
   "source": [
    "#地図の表示\n",
    "folium_map"
   ]
  },
  {
   "cell_type": "code",
   "execution_count": null,
   "metadata": {},
   "outputs": [],
   "source": [
    "###  DB接続の切断\n",
    "%sql connect close"
   ]
  },
  {
   "cell_type": "markdown",
   "metadata": {},
   "source": [
    "以上です。お疲れ様でした!"
   ]
  }
 ],
 "metadata": {
  "kernelspec": {
   "display_name": "Python 3.9",
   "language": "python",
   "name": "python3"
  },
  "language_info": {
   "codemirror_mode": {
    "name": "ipython",
    "version": 3
   },
   "file_extension": ".py",
   "mimetype": "text/x-python",
   "name": "python",
   "nbconvert_exporter": "python",
   "pygments_lexer": "ipython3",
   "version": "3.9.12"
  },
  "vscode": {
   "interpreter": {
    "hash": "fbe9cfdaa3f3a0aaa5f06756b6a5b3989511cfd330e745281500f59b5ec3cc9d"
   }
  }
 },
 "nbformat": 4,
 "nbformat_minor": 2
}
